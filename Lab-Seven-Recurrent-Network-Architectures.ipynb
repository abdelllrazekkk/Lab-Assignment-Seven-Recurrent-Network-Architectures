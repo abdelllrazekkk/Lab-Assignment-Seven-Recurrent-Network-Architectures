{
 "cells": [
  {
   "cell_type": "markdown",
   "id": "e3d100f6",
   "metadata": {},
   "source": [
    "# Lab Assignment Seven: Recurrent Network Architectures"
   ]
  },
  {
   "cell_type": "markdown",
   "id": "441cc890",
   "metadata": {},
   "source": [
    "In this lab, we will select a prediction task to perform on our dataset, evaluate a recurrent architecture and tune hyper-parameters."
   ]
  },
  {
   "cell_type": "markdown",
   "id": "f23ab909",
   "metadata": {},
   "source": [
    "## Team Members:\n",
    "1) Mohammed Ahmed Abdelrazek Aboelela\n",
    "\n",
    "2) Naim Barnett\n",
    "\n",
    "3) Katie Rink"
   ]
  },
  {
   "cell_type": "markdown",
   "id": "e93defd6",
   "metadata": {},
   "source": [
    "## Dataset Selection"
   ]
  },
  {
   "cell_type": "markdown",
   "id": "9eccb57c",
   "metadata": {},
   "source": [
    "Data Set : Twitter Sentimental analysis Dataset - https://www.kaggle.com/datasets/cosmos98/twitter-and-reddit-sentimental-analysis-dataset?select=Twitter_Data.csv"
   ]
  },
  {
   "cell_type": "markdown",
   "id": "38149cbf",
   "metadata": {},
   "source": [
    "## Overview and Business Understanding"
   ]
  },
  {
   "cell_type": "markdown",
   "id": "cfc7868c",
   "metadata": {},
   "source": [
    "From the public domain of Kaggle, we import this dataset that we think is most convinient for this lab pruproses. This was a dataaset created as a part of a university Project On Sentimental Analysis On Multi-Source Social Media Platform. These tweets were made on Narendra Modi and other Leaders as well as People's opinion towards the next Prime Minister of The Nation (In Context with General Elections Held In India - 2019). This dataset consists of around 163K tweets from the social media platform Twitter, it has two cloumns, the first column has the cleaned tweets and Comments and the Second one indicates its Sentimental Label. with Sentimental Label in the form:\n",
    "\n",
    "{\n",
    "0: Indicating it is a Neutral Tweet\n",
    "\n",
    "1: Indicating a Postive Sentiment\n",
    "\n",
    "-1: Indicating a Negative Tweet\n",
    "}\n",
    "\n",
    "We can create a business goal for this dataset in the following way: say we are hired by Twitter to speed up their detection for tweets that violate policies and rules. We expect tweets that have a positive sentiment and neutral tweets in general to not be violating the policies, however, negative tweets are more likely to contain words that are inappropriate and violate the codes of the platform. Thus, this classification will help in detecting the tweets that are more likely to be violating the codes of the platform (the negative tweets), and we end up with a binary classification problem more or less.\n",
    "\n",
    "It is worth noting that we relied heavily on the professor's notebook, so everything I took from there will be cited with \"(Inspired by the professor's notebook)\" beforehand."
   ]
  },
  {
   "cell_type": "markdown",
   "id": "7e1ed7ae",
   "metadata": {},
   "source": [
    "## Preparation"
   ]
  },
  {
   "cell_type": "markdown",
   "id": "625d483a",
   "metadata": {},
   "source": [
    "### Defining and preparing our class variables. Describing the final dataset that is used for classification. Discussing methods of tokenization in our dataset as well as any decisions to force a specific length of sequence."
   ]
  },
  {
   "cell_type": "code",
   "execution_count": 90,
   "id": "9135a410",
   "metadata": {},
   "outputs": [],
   "source": [
    "\"\"\"Importing all the needed packages\"\"\"\n",
    "import numpy as np\n",
    "import pandas as pd\n",
    "import os\n",
    "os.environ['KMP_DUPLICATE_LIB_OK']='True'\n",
    "import warnings\n",
    "warnings.simplefilter('ignore', DeprecationWarning)\n",
    "from tensorflow import keras\n",
    "from tensorflow.keras.preprocessing.text import Tokenizer\n",
    "from tensorflow.keras.preprocessing.sequence import pad_sequences\n",
    "from tensorflow.keras.preprocessing import sequence\n",
    "from matplotlib import pyplot as plt\n",
    "from sklearn.model_selection import train_test_split\n",
    "from sklearn import metrics as mt\n",
    "from sklearn.model_selection import StratifiedKFold"
   ]
  },
  {
   "cell_type": "code",
   "execution_count": 91,
   "id": "14f9e397",
   "metadata": {
    "scrolled": true
   },
   "outputs": [
    {
     "name": "stdout",
     "output_type": "stream",
     "text": [
      "<class 'pandas.core.frame.DataFrame'>\n",
      "Int64Index: 162969 entries, 0 to 162979\n",
      "Data columns (total 2 columns):\n",
      " #   Column      Non-Null Count   Dtype \n",
      "---  ------      --------------   ----- \n",
      " 0   clean_text  162969 non-null  object\n",
      " 1   category    162969 non-null  int64 \n",
      "dtypes: int64(1), object(1)\n",
      "memory usage: 3.7+ MB\n"
     ]
    },
    {
     "data": {
      "text/html": [
       "<div>\n",
       "<style scoped>\n",
       "    .dataframe tbody tr th:only-of-type {\n",
       "        vertical-align: middle;\n",
       "    }\n",
       "\n",
       "    .dataframe tbody tr th {\n",
       "        vertical-align: top;\n",
       "    }\n",
       "\n",
       "    .dataframe thead th {\n",
       "        text-align: right;\n",
       "    }\n",
       "</style>\n",
       "<table border=\"1\" class=\"dataframe\">\n",
       "  <thead>\n",
       "    <tr style=\"text-align: right;\">\n",
       "      <th></th>\n",
       "      <th>clean_text</th>\n",
       "      <th>category</th>\n",
       "    </tr>\n",
       "  </thead>\n",
       "  <tbody>\n",
       "    <tr>\n",
       "      <th>0</th>\n",
       "      <td>when modi promised “minimum government maximum...</td>\n",
       "      <td>-1</td>\n",
       "    </tr>\n",
       "    <tr>\n",
       "      <th>1</th>\n",
       "      <td>talk all the nonsense and continue all the dra...</td>\n",
       "      <td>0</td>\n",
       "    </tr>\n",
       "    <tr>\n",
       "      <th>2</th>\n",
       "      <td>what did just say vote for modi  welcome bjp t...</td>\n",
       "      <td>1</td>\n",
       "    </tr>\n",
       "    <tr>\n",
       "      <th>3</th>\n",
       "      <td>asking his supporters prefix chowkidar their n...</td>\n",
       "      <td>1</td>\n",
       "    </tr>\n",
       "    <tr>\n",
       "      <th>4</th>\n",
       "      <td>answer who among these the most powerful world...</td>\n",
       "      <td>1</td>\n",
       "    </tr>\n",
       "    <tr>\n",
       "      <th>...</th>\n",
       "      <td>...</td>\n",
       "      <td>...</td>\n",
       "    </tr>\n",
       "    <tr>\n",
       "      <th>162975</th>\n",
       "      <td>why these 456 crores paid neerav modi not reco...</td>\n",
       "      <td>-1</td>\n",
       "    </tr>\n",
       "    <tr>\n",
       "      <th>162976</th>\n",
       "      <td>dear rss terrorist payal gawar what about modi...</td>\n",
       "      <td>-1</td>\n",
       "    </tr>\n",
       "    <tr>\n",
       "      <th>162977</th>\n",
       "      <td>did you cover her interaction forum where she ...</td>\n",
       "      <td>0</td>\n",
       "    </tr>\n",
       "    <tr>\n",
       "      <th>162978</th>\n",
       "      <td>there big project came into india modi dream p...</td>\n",
       "      <td>0</td>\n",
       "    </tr>\n",
       "    <tr>\n",
       "      <th>162979</th>\n",
       "      <td>have you ever listen about like gurukul where ...</td>\n",
       "      <td>1</td>\n",
       "    </tr>\n",
       "  </tbody>\n",
       "</table>\n",
       "<p>162969 rows × 2 columns</p>\n",
       "</div>"
      ],
      "text/plain": [
       "                                               clean_text  category\n",
       "0       when modi promised “minimum government maximum...        -1\n",
       "1       talk all the nonsense and continue all the dra...         0\n",
       "2       what did just say vote for modi  welcome bjp t...         1\n",
       "3       asking his supporters prefix chowkidar their n...         1\n",
       "4       answer who among these the most powerful world...         1\n",
       "...                                                   ...       ...\n",
       "162975  why these 456 crores paid neerav modi not reco...        -1\n",
       "162976  dear rss terrorist payal gawar what about modi...        -1\n",
       "162977  did you cover her interaction forum where she ...         0\n",
       "162978  there big project came into india modi dream p...         0\n",
       "162979  have you ever listen about like gurukul where ...         1\n",
       "\n",
       "[162969 rows x 2 columns]"
      ]
     },
     "execution_count": 91,
     "metadata": {},
     "output_type": "execute_result"
    }
   ],
   "source": [
    "\"\"\"Loading the Dataset\"\"\"\n",
    "data = pd.read_csv('../../Data/Lab_7_Dataset/Twitter_Data.csv', low_memory=False)\n",
    "\n",
    "# quick cleaning\n",
    "data.dropna(inplace=True);\n",
    "data = data.drop_duplicates()\n",
    "\n",
    "# Specifying which datatypes you expect for each column\n",
    "data['clean_text'] = data['clean_text'].astype(str)\n",
    "data['category'] = data['category'].astype(int)\n",
    "\n",
    "#Showing data\n",
    "data.info()\n",
    "data"
   ]
  },
  {
   "cell_type": "code",
   "execution_count": 92,
   "id": "a9cb3c5f",
   "metadata": {},
   "outputs": [
    {
     "name": "stdout",
     "output_type": "stream",
     "text": [
      "Before replacing:\n",
      " 1    72249\n",
      " 0    55211\n",
      "-1    35509\n",
      "Name: category, dtype: int64\n",
      "================================\n",
      "After replacing:\n",
      "1    127460\n",
      "0     35509\n",
      "Name: category, dtype: int64\n"
     ]
    }
   ],
   "source": [
    "# Turning our problem to a binary classification one to be consistent with our business case\n",
    "print(\"Before replacing:\")\n",
    "print(data[\"category\"].value_counts())\n",
    "print('================================')\n",
    "data['category'].replace([-1,0],[0,1], inplace=True)\n",
    "print(\"After replacing:\")\n",
    "print(data[\"category\"].value_counts())"
   ]
  },
  {
   "cell_type": "code",
   "execution_count": 93,
   "id": "ee951594",
   "metadata": {},
   "outputs": [
    {
     "name": "stdout",
     "output_type": "stream",
     "text": [
      "--------Random Tweet---------\n",
      "respected modi our bastar 300kms from raipur please provide exam centres jagdalpur for the exams 1ugc net 2csir ugc net 3ctet sirji govt efforts take the girls education positively but putting fee for them nios class 1012 not right\n",
      "================================\n",
      "Tweet Label:  1\n"
     ]
    }
   ],
   "source": [
    "\"\"\"Displaying a random tweet and its label\"\"\"\n",
    "idx = round(np.random.rand()*data.shape[0])\n",
    "print('--------Random Tweet---------')\n",
    "print(data['clean_text'][idx])\n",
    "print('================================')\n",
    "print('Tweet Label: ',data['category'][idx])"
   ]
  },
  {
   "cell_type": "code",
   "execution_count": 94,
   "id": "597b33f7",
   "metadata": {},
   "outputs": [],
   "source": [
    "# making lists of the instances and targets ready to be tokenized\n",
    "instances = data[\"clean_text\"].to_list() \n",
    "target = data[\"category\"].to_numpy()"
   ]
  },
  {
   "cell_type": "code",
   "execution_count": 95,
   "id": "cc616482",
   "metadata": {},
   "outputs": [
    {
     "name": "stdout",
     "output_type": "stream",
     "text": [
      "Found 113678 unique tokens. Distilled to 113678 top words.\n",
      "Shape of data tensor: (162969, 52)\n",
      "Shape of label tensor: (162969, 2)\n",
      "113678\n"
     ]
    }
   ],
   "source": [
    "\"\"\"(Inspired by the professor's notebook)\"\"\"\n",
    "\n",
    "NUM_TOP_WORDS = None # use entire vocabulary!\n",
    "\n",
    "# tokenize the text\n",
    "tokenizer = Tokenizer(num_words=NUM_TOP_WORDS)\n",
    "tokenizer.fit_on_texts(instances)\n",
    "# save as sequences with integers replacing words\n",
    "sequences = tokenizer.texts_to_sequences(instances)\n",
    "\n",
    "word_index = tokenizer.word_index\n",
    "NUM_TOP_WORDS = len(word_index) if NUM_TOP_WORDS==None else NUM_TOP_WORDS\n",
    "top_words = min((len(word_index),NUM_TOP_WORDS))\n",
    "print('Found %s unique tokens. Distilled to %d top words.' % (len(word_index),top_words))\n",
    "\n",
    "X = pad_sequences(sequences)\n",
    "\n",
    "y_ohe = keras.utils.to_categorical(target)\n",
    "print('Shape of data tensor:', X.shape)\n",
    "print('Shape of label tensor:', y_ohe.shape)\n",
    "print(np.max(X))"
   ]
  },
  {
   "cell_type": "markdown",
   "id": "0443815c",
   "metadata": {},
   "source": [
    "Now, we have our final dataset that is ready for the sentiment classification task. We have our \"X\" tensor containing all the 162969 tweets, vectorized into a sequence of integers using the Keras text Tokenizer. We leave the default options of the tokenizer and the pad_sequences as we do not have massively big texts that we need to suppress or control (thanks to the limit on the character content of the tweets already imposed by Twitter :D). We also have our labels tensor as \"y_ohe\" in a one-hot encoded form."
   ]
  },
  {
   "cell_type": "code",
   "execution_count": 96,
   "id": "55a0156d",
   "metadata": {},
   "outputs": [
    {
     "name": "stdout",
     "output_type": "stream",
     "text": [
      "X_train Shape: (130375, 52) Label Shape: (130375, 2)\n"
     ]
    },
    {
     "data": {
      "image/png": "[encoded data removed]",
      "text/plain": [
       "<Figure size 640x480 with 1 Axes>"
      ]
     },
     "metadata": {},
     "output_type": "display_data"
    }
   ],
   "source": [
    "# Split it into train / test subsets\n",
    "X_train, X_test, y_train_ohe, y_test_ohe = train_test_split(X, y_ohe, test_size=0.2,\n",
    "                                                            stratify=target, \n",
    "                                                            random_state=42)\n",
    "NUM_CLASSES = 2\n",
    "\n",
    "# print some stats of the data\n",
    "print(\"X_train Shape:\",X_train.shape, \"Label Shape:\", y_train_ohe.shape)\n",
    "uniq_classes = np.sum(y_train_ohe,axis=0)\n",
    "plt.bar(list(range(2)),uniq_classes)\n",
    "plt.xticks(list(range(2)), rotation='vertical')\n",
    "plt.ylabel(\"Number of Instances in Each Class\")\n",
    "plt.show()"
   ]
  },
  {
   "cell_type": "markdown",
   "id": "54a13ccc",
   "metadata": {},
   "source": [
    "### Choosing and explaining what metric we will use to evaluate your algorithm’s performance."
   ]
  },
  {
   "cell_type": "markdown",
   "id": "accc8673",
   "metadata": {},
   "source": [
    "For our business case that was already explained in the beginning of this notebook, it's more important for us to detect the negative tweets than detect the negative ones. In other words, having a false positive classification will be worse and less desirable than a false negative. Thus, we are looking to maximize the true positive out of the total predicted positives and consequently, the appropriate metric we decide to use is the \"Precision\" metric. "
   ]
  },
  {
   "cell_type": "markdown",
   "id": "72e65c4e",
   "metadata": {},
   "source": [
    "### Choosing the method we will use for dividing our data for cross-validation"
   ]
  },
  {
   "cell_type": "markdown",
   "id": "01b5fe10",
   "metadata": {},
   "source": [
    "Since we have a kind of unbalanced data where one of the labels is significantly abundant than the other, we might be compelled to use Stratified 10-fold cross validation, to ensure that we have a good mirror of the original set and to also avoid having a significantly higher imbalance in during one set of cross-validation trainings. That's why we avoid using ShuffleSplits as we might end up having a severe imbalance during the training of one of the splits."
   ]
  },
  {
   "cell_type": "code",
   "execution_count": 98,
   "id": "bd725979",
   "metadata": {},
   "outputs": [
    {
     "name": "stdout",
     "output_type": "stream",
     "text": [
      "StratifiedKFold(n_splits=10, random_state=None, shuffle=False)\n"
     ]
    }
   ],
   "source": [
    "skf = StratifiedKFold(n_splits=10)\n",
    "skf.get_n_splits(X_train, y_train_ohe)\n",
    "print(skf)"
   ]
  },
  {
   "cell_type": "markdown",
   "id": "c0447057",
   "metadata": {},
   "source": [
    "## Modeling (6 points total)"
   ]
  },
  {
   "cell_type": "markdown",
   "id": "d5916d1b",
   "metadata": {},
   "source": [
    "### [3 points] Investigate at least two different recurrent network architectures (perhaps LSTM and GRU). Be sure to use an embedding layer (pre-trained, from scratch, OR both). Adjust hyper-parameters of the networks as needed to improve generalization performance (train a total of at least four models). Discuss the performance of each network and compare them."
   ]
  },
  {
   "cell_type": "code",
   "execution_count": null,
   "id": "706907a7",
   "metadata": {},
   "outputs": [],
   "source": []
  },
  {
   "cell_type": "markdown",
   "id": "a85527e5",
   "metadata": {},
   "source": [
    "### [1 points] Using the best RNN parameters and architecture, add a second recurrent chain to your RNN. The input to the second chain should be the output sequence of the first chain. Visualize the performance of training and validation sets versus the training iterations. "
   ]
  },
  {
   "cell_type": "code",
   "execution_count": null,
   "id": "83543613",
   "metadata": {},
   "outputs": [],
   "source": []
  },
  {
   "cell_type": "markdown",
   "id": "970006a6",
   "metadata": {},
   "source": [
    "### [2 points] Use the method of train/test splitting and evaluation criteria that you argued for at the beginning of the lab. Visualize the results of all the RNNs you trained.  Use proper statistical comparison techniques to determine which method(s) is (are) superior.  "
   ]
  },
  {
   "cell_type": "code",
   "execution_count": null,
   "id": "0b75a7af",
   "metadata": {},
   "outputs": [],
   "source": []
  },
  {
   "cell_type": "markdown",
   "id": "b65cd289",
   "metadata": {},
   "source": [
    "## Exceptional Work (1 points total)"
   ]
  },
  {
   "cell_type": "markdown",
   "id": "5d818b8c",
   "metadata": {},
   "source": [
    "### One idea (required for 7000 level students to do one of these options):                                                                         Option 1: Use dimensionality reduction (choose an appropriate method from this list: t-SNE, SVD, PCA, or UMAP) to visualize the word embeddings of a subset of words in your vocabulary that you expect to have an analogy that can be captured by the embedding. Try to interpret if an analogy exists, show the vectors that support/refute the analogy, and interpret your findings.                                                                                                                                         Options 2: Use the ConceptNet Numberbatch embedding and compare to GloVe. Which method is better for your specific application? "
   ]
  },
  {
   "cell_type": "code",
   "execution_count": null,
   "id": "65ae4bee",
   "metadata": {},
   "outputs": [],
   "source": []
  },
  {
   "cell_type": "markdown",
   "id": "5a740aef",
   "metadata": {},
   "source": [
    "### One Idea (NOT required): Try to create a RNN for generating novel text. "
   ]
  },
  {
   "cell_type": "code",
   "execution_count": null,
   "id": "ba87d22d",
   "metadata": {},
   "outputs": [],
   "source": []
  },
  {
   "cell_type": "markdown",
   "id": "f0efb332",
   "metadata": {},
   "source": [
    "### You have free rein to provide additional analyses."
   ]
  },
  {
   "cell_type": "code",
   "execution_count": null,
   "id": "81e0eba9",
   "metadata": {},
   "outputs": [],
   "source": []
  }
 ],
 "metadata": {
  "kernelspec": {
   "display_name": "Python 3 (ipykernel)",
   "language": "python",
   "name": "python3"
  },
  "language_info": {
   "codemirror_mode": {
    "name": "ipython",
    "version": 3
   },
   "file_extension": ".py",
   "mimetype": "text/x-python",
   "name": "python",
   "nbconvert_exporter": "python",
   "pygments_lexer": "ipython3",
   "version": "3.9.15"
  }
 },
 "nbformat": 4,
 "nbformat_minor": 5
}
